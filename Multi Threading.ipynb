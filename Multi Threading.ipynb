{
 "cells": [
  {
   "cell_type": "markdown",
   "id": "60a2fbb7",
   "metadata": {},
   "source": [
    "## In threading - we have a core which runs multiple programs at a time.\n",
    "\n",
    "#### My Understanding - Different Cores can run different programs.\n",
    "####                                  - If we want to run same program over and over it would run in the samecore.\n",
    "####                                  - So instead we run different programs at the same time.\n",
    "\n",
    "\n",
    "#### In multiThreading we run multiple instances of a program in one single core. But only one instance runs at a time.\n"
   ]
  },
  {
   "cell_type": "code",
   "execution_count": 1,
   "id": "df0a7c2f",
   "metadata": {},
   "outputs": [],
   "source": [
    "import threading"
   ]
  },
  {
   "cell_type": "code",
   "execution_count": 2,
   "id": "1a258189",
   "metadata": {},
   "outputs": [],
   "source": [
    "def test(id):\n",
    "    print('This is my test id %d' %id)"
   ]
  },
  {
   "cell_type": "code",
   "execution_count": 3,
   "id": "fc6f13bd",
   "metadata": {},
   "outputs": [
    {
     "name": "stdout",
     "output_type": "stream",
     "text": [
      "This is my test id 10\n"
     ]
    }
   ],
   "source": [
    "test(10)"
   ]
  },
  {
   "cell_type": "code",
   "execution_count": 4,
   "id": "d74e82b8",
   "metadata": {},
   "outputs": [
    {
     "name": "stdout",
     "output_type": "stream",
     "text": [
      "This is my test id 1\n"
     ]
    }
   ],
   "source": [
    "test(1)"
   ]
  },
  {
   "cell_type": "code",
   "execution_count": 5,
   "id": "0ede6833",
   "metadata": {},
   "outputs": [],
   "source": [
    "thred = [threading.Thread(target = test, args = (i,)) for i in [10, 1, 3]]"
   ]
  },
  {
   "cell_type": "code",
   "execution_count": 6,
   "id": "83d43c7a",
   "metadata": {},
   "outputs": [
    {
     "name": "stdout",
     "output_type": "stream",
     "text": [
      "This is my test id 10\n",
      "This is my test id 1\n",
      "This is my test id 3\n"
     ]
    }
   ],
   "source": [
    "for i in thred:\n",
    "    i.start()"
   ]
  },
  {
   "cell_type": "markdown",
   "id": "558e9c6d",
   "metadata": {},
   "source": [
    "#### ---------------------------------------------------------------------------------------------------------------------------------------------------------------------------------------"
   ]
  },
  {
   "cell_type": "code",
   "execution_count": 7,
   "id": "f6139433",
   "metadata": {},
   "outputs": [],
   "source": [
    "import urllib.request\n",
    "\n",
    "def file_download(url, filename):\n",
    "    urllib.request.urlretrieve(url, filename)"
   ]
  },
  {
   "cell_type": "code",
   "execution_count": 8,
   "id": "b82c8abd",
   "metadata": {},
   "outputs": [],
   "source": [
    "url_list = ['https://github.com/itsfoss/text-files/blob/master/agatha.txt', 'https://github.com/itsfoss/text-files/blob/master/sherlock.txt', 'https://github.com/itsfoss/text-files/blob/master/sample_log_file.txt']"
   ]
  },
  {
   "cell_type": "code",
   "execution_count": 9,
   "id": "b2b64361",
   "metadata": {},
   "outputs": [],
   "source": [
    "data_file_list = ['data1.txt', 'data2.txt', 'data3.txt']"
   ]
  },
  {
   "cell_type": "code",
   "execution_count": 10,
   "id": "798eb070",
   "metadata": {},
   "outputs": [],
   "source": [
    "thread1 = [threading.Thread(target = file_download, args = (url_list[i], data_file_list[i])) for i in range(len(url_list))]"
   ]
  },
  {
   "cell_type": "code",
   "execution_count": 11,
   "id": "f9df63fe",
   "metadata": {},
   "outputs": [],
   "source": [
    "for i in thread1:\n",
    "    i.start()"
   ]
  },
  {
   "cell_type": "code",
   "execution_count": 12,
   "id": "4d55f63c",
   "metadata": {},
   "outputs": [
    {
     "data": {
      "text/plain": [
       "[<Thread(Thread-8, started 12212)>,\n",
       " <Thread(Thread-9, started 4480)>,\n",
       " <Thread(Thread-10, started 14796)>]"
      ]
     },
     "execution_count": 12,
     "metadata": {},
     "output_type": "execute_result"
    }
   ],
   "source": [
    "thread1"
   ]
  },
  {
   "cell_type": "markdown",
   "id": "bc616586",
   "metadata": {},
   "source": [
    "## Notice Round Robin hood when we give time.sleep(1) in a function"
   ]
  },
  {
   "cell_type": "code",
   "execution_count": 13,
   "id": "6c237937",
   "metadata": {},
   "outputs": [],
   "source": [
    "import time\n",
    "def test2(x):\n",
    "    for i in range(10):\n",
    "        print('test1 print the value of x %d and printthe value of i %d' %(x, i))\n",
    "        time.sleep(1)"
   ]
  },
  {
   "cell_type": "code",
   "execution_count": 14,
   "id": "df1786a2",
   "metadata": {},
   "outputs": [],
   "source": [
    "thread2 = [threading.Thread(target = test2, args = (i,)) for i in [100, 10, 20, 5]]"
   ]
  },
  {
   "cell_type": "code",
   "execution_count": 15,
   "id": "7259359a",
   "metadata": {},
   "outputs": [
    {
     "name": "stdout",
     "output_type": "stream",
     "text": [
      "test1 print the value of x 100 and printthe value of i 0test1 print the value of x 10 and printthe value of i 0\n",
      "\n",
      "test1 print the value of x 20 and printthe value of i 0\n",
      "test1 print the value of x 5 and printthe value of i 0\n"
     ]
    }
   ],
   "source": [
    "for t in thread2:\n",
    "    t.start()"
   ]
  },
  {
   "cell_type": "markdown",
   "id": "e1a85aff",
   "metadata": {},
   "source": [
    "## Notice that there is no round robinhood without buffering time"
   ]
  },
  {
   "cell_type": "code",
   "execution_count": 16,
   "id": "1a722c44",
   "metadata": {},
   "outputs": [],
   "source": [
    "import time\n",
    "def test2(x):\n",
    "    for i in range(10):\n",
    "        print('test1 print the value of x %d and printthe value of i %d' %(x, i))\n",
    "        time.sleep(1)"
   ]
  },
  {
   "cell_type": "code",
   "execution_count": 17,
   "id": "decadb2a",
   "metadata": {},
   "outputs": [],
   "source": [
    "thread2 = [threading.Thread(target = test2, args = (i,)) for i in [100, 10, 20, 5]]"
   ]
  },
  {
   "cell_type": "code",
   "execution_count": 18,
   "id": "79314458",
   "metadata": {},
   "outputs": [
    {
     "name": "stdout",
     "output_type": "stream",
     "text": [
      "test1 print the value of x 100 and printthe value of i 0\n",
      "test1 print the value of x 10 and printthe value of i 0\n",
      "test1 print the value of x 20 and printthe value of i 0\n",
      "test1 print the value of x 5 and printthe value of i 0\n"
     ]
    }
   ],
   "source": [
    "for t in thread2:\n",
    "    t.start()"
   ]
  },
  {
   "cell_type": "markdown",
   "id": "066b3551",
   "metadata": {},
   "source": [
    "### You can avoid race-around condition using .lock()"
   ]
  },
  {
   "cell_type": "code",
   "execution_count": 20,
   "id": "71352674",
   "metadata": {},
   "outputs": [
    {
     "name": "stdout",
     "output_type": "stream",
     "text": [
      "value of x 1 and value of shared_var 1\n",
      "value of x 2 and value of shared_var 2\n",
      "value of x 3 and value of shared_var 3\n",
      "value of x 4 and value of shared_var 4\n",
      "value of x 4 and value of shared_var 5\n",
      "value of x 5 and value of shared_var 6\n"
     ]
    }
   ],
   "source": [
    "shared_var = 0\n",
    "lock_var = threading.Lock()\n",
    "def test4(x):\n",
    "    global shared_var\n",
    "    with lock_var:\n",
    "        shared_var = shared_var + 1\n",
    "        print(\"value of x %d and value of shared_var %d\" %(x, shared_var))\n",
    "        time.sleep(1)\n",
    "        \n",
    "thread5 = [threading.Thread(target = test4, args = (i,)) for i in [1,2,3,4,4,5]]\n",
    "for t in thread5:\n",
    "    t.start()"
   ]
  },
  {
   "cell_type": "code",
   "execution_count": null,
   "id": "821d34c5",
   "metadata": {},
   "outputs": [],
   "source": []
  }
 ],
 "metadata": {
  "kernelspec": {
   "display_name": "Python 3 (ipykernel)",
   "language": "python",
   "name": "python3"
  },
  "language_info": {
   "codemirror_mode": {
    "name": "ipython",
    "version": 3
   },
   "file_extension": ".py",
   "mimetype": "text/x-python",
   "name": "python",
   "nbconvert_exporter": "python",
   "pygments_lexer": "ipython3",
   "version": "3.9.13"
  }
 },
 "nbformat": 4,
 "nbformat_minor": 5
}
